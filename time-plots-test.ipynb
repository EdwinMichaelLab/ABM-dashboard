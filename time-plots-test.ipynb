{
 "cells": [
  {
   "cell_type": "code",
   "execution_count": null,
   "id": "e16ca23f",
   "metadata": {},
   "outputs": [],
   "source": [
    "from collections import OrderedDict\n",
    "import dash\n",
    "#import dash_core_components as dcc\n",
    "from dash import dcc\n",
    "#import dash_html_components as html\n",
    "from dash import html\n",
    "from dash.dependencies import Input, Output, State, ClientsideFunction\n",
    "#import dash_core_components as dcc\n",
    "from dash import dcc\n",
    "import plotly.express as px\n",
    "import plotly.graph_objects as go\n",
    "import  plotly as py\n",
    "#import pandas as pd\n",
    "import sys\n",
    "import numpy as np\n",
    "import os\n",
    "import geopandas as gpd\n",
    "import pandas as pd\n",
    "#from dask import dataframe as dd\n",
    "import plotly.express as px\n",
    "import  plotly as py\n",
    "from plotly.subplots import make_subplots\n",
    "import os\n",
    "from pyproj import Transformer\n",
    "from shapely.geometry import Point\n",
    "import math\n",
    "import random\n",
    "from datetime import datetime, date, timedelta, time\n",
    "import queue\n",
    "import threading\n",
    "import time\n",
    "from sklearn.metrics import mean_squared_error\n",
    "from sklearn.metrics import mean_absolute_percentage_error\n",
    "#import vaex"
   ]
  },
  {
   "cell_type": "code",
   "execution_count": null,
   "id": "fc6b3dcc",
   "metadata": {},
   "outputs": [],
   "source": [
    "print(os.getcwd())"
   ]
  },
  {
   "cell_type": "code",
   "execution_count": null,
   "id": "6367aef1",
   "metadata": {},
   "outputs": [],
   "source": [
    "\n",
    "#path = os.path.join('..', 'ABM-simulator', 'SimulationEngine', 'output', '0308', 'run-no-intervention')\n",
    "path = os.path.join('..', 'ABM-simulator', 'SimulationEngine', 'output', 'split-pop-with-shakir-logic')\n",
    "print(path)\n",
    "\n",
    "dlist = []\n",
    "for root, dirs, files in os.walk(path):\n",
    "#for root, dirs, files in os.walk(path2):\n",
    "    for file in files:\n",
    "        if file.startswith(\"plot_\"):\n",
    "            #print(file)\n",
    "            no = file.split('_')[1].split('.')[0]\n",
    "            d = pd.read_csv(os.path.join(root, file))\n",
    "            dlist.append(d)\n",
    "            # if no == '33559':\n",
    "            #     d = pd.read_csv(os.path.join(root, file))\n",
    "            #     # d['chunk'] = no\n",
    "            #     #if get_RMSE(no, d['vcases'], d['cases']) < 400:\n",
    "            #     dlist.append(d)\n",
    "\n",
    "print('All plots-Loading completed!')\n",
    "plotdf = pd.concat(dlist, axis=1)\n",
    "df1=plotdf\n",
    "#df1.plot()\n",
    "#df1['vcases'].head(150)"
   ]
  },
  {
   "cell_type": "code",
   "execution_count": null,
   "id": "861adcac",
   "metadata": {},
   "outputs": [],
   "source": [
    "plotdf.drop('date', axis=1, inplace=True)\n",
    "plotdf['date']=dlist[0]['date'].tolist()\n",
    "plotdf"
   ]
  },
  {
   "cell_type": "code",
   "execution_count": null,
   "id": "c747d980",
   "metadata": {},
   "outputs": [],
   "source": [
    "#plotdf.plot()"
   ]
  },
  {
   "cell_type": "code",
   "execution_count": null,
   "id": "74d6387d",
   "metadata": {},
   "outputs": [],
   "source": [
    "plotdf['Date'] = pd.to_datetime(plotdf['date'])\n",
    "plotdf['Week_Number'] = plotdf['Date'].dt.week\n",
    "plotdf['Year'] = plotdf['Date'].dt.year\n",
    "plotdf[['Date','Week_Number', 'Year']]\n",
    "\n",
    "plotdf.set_index('Date')"
   ]
  },
  {
   "cell_type": "code",
   "execution_count": null,
   "id": "fb45824d",
   "metadata": {},
   "outputs": [],
   "source": [
    "import numbers\n",
    "\n",
    "max = plotdf.groupby(plotdf.columns, axis=1).max()\n",
    "min = plotdf.groupby(plotdf.columns, axis=1).min()\n",
    "sum = plotdf.groupby(plotdf.columns, axis=1).sum()\n",
    "#mean = plotdf.groupby(plotdf.columns, axis=1).mean() # error! return 0s ... use transpose() for fix\n",
    "df2=plotdf.transpose()\n",
    "df2 = df2.groupby(by=df2.index, axis=0).apply(lambda g: g.mean() if isinstance(g.iloc[0,0], numbers.Number) else g.iloc[0])\n",
    "mean = df2.transpose()        \n",
    "mean"
   ]
  },
  {
   "cell_type": "code",
   "execution_count": null,
   "id": "acd36263",
   "metadata": {},
   "outputs": [],
   "source": [
    "#df2 = mean.groupby(['Year','Week_Number'], as_index=False).sum()\n",
    "df2 = sum.groupby(['Year','Week_Number'], as_index=False).sum()\n",
    "df2[['cases','vcases']]"
   ]
  },
  {
   "cell_type": "code",
   "execution_count": null,
   "id": "9b5a1457",
   "metadata": {},
   "outputs": [],
   "source": [
    "df2[['cases', 'vcases']].plot()"
   ]
  },
  {
   "cell_type": "code",
   "execution_count": null,
   "id": "c10cde11",
   "metadata": {},
   "outputs": [],
   "source": [
    "#sf=df2['cases'].quantile([0.25])\n",
    "df2['cases2']=df2['cases']*20\n",
    "df2[['cases2','vcases']].plot()"
   ]
  },
  {
   "cell_type": "code",
   "execution_count": null,
   "id": "52d80dde",
   "metadata": {},
   "outputs": [],
   "source": [
    "df2['admissions2']=df2['admissions']*22\n",
    "df2[['admissions2', 'vadmissions']].plot()"
   ]
  },
  {
   "cell_type": "code",
   "execution_count": null,
   "id": "451a2ca6",
   "metadata": {},
   "outputs": [],
   "source": [
    "df2['death2']=df2['deaths']*100\n",
    "df2[['death2','vdeaths']].plot()"
   ]
  },
  {
   "cell_type": "code",
   "execution_count": null,
   "id": "df65f440",
   "metadata": {},
   "outputs": [],
   "source": [
    "df2['percent_change']=df2['cases'].pct_change()\n",
    "df2['percent_change']\n",
    "df2[['percent_change']].plot()"
   ]
  }
 ],
 "metadata": {
  "kernelspec": {
   "display_name": "Python 3 (ipykernel)",
   "language": "python",
   "name": "python3"
  },
  "language_info": {
   "codemirror_mode": {
    "name": "ipython",
    "version": 3
   },
   "file_extension": ".py",
   "mimetype": "text/x-python",
   "name": "python",
   "nbconvert_exporter": "python",
   "pygments_lexer": "ipython3",
   "version": "3.9.10"
  }
 },
 "nbformat": 4,
 "nbformat_minor": 5
}
