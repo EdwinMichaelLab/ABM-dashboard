{
 "cells": [
  {
   "cell_type": "code",
   "execution_count": null,
   "metadata": {},
   "outputs": [],
   "source": [
    "# import required packages\n",
    "import pandas as pd\n",
    "import plotly.express as px\n",
    "import matplotlib.pyplot as plt\n",
    "import numpy as np\n",
    "import seaborn as sns; sns.set(style=\"ticks\", color_codes=True)\n",
    "import geopandas as gpd\n",
    "from geopandas import GeoDataFrame\n",
    "import json\n",
    "# load data\n",
    "df = pd.read_csv('../../data-mapbox-animation/crime.csv', parse_dates={'Date':['YEAR', 'MONTH']}, \n",
    "      keep_date_col=True)\n",
    "      \n",
    "df.head()"
   ]
  },
  {
   "cell_type": "code",
   "execution_count": null,
   "metadata": {},
   "outputs": [],
   "source": [
    "# drop invalid rows\n",
    "df = df[(df.Latitude != 0) & (df.Longitude != 0)]\n",
    "# subsample 2000 rows at random\n",
    "sample_df = df.sample(2000, random_state = 42)\n",
    "sample_df"
   ]
  },
  {
   "cell_type": "code",
   "execution_count": null,
   "metadata": {},
   "outputs": [],
   "source": [
    "van_geojson = gpd.read_file(\"../../data-mapbox-animation/vancouver.geojson\")\n",
    "\n",
    "fig, ax = plt.subplots(figsize = (10,8))\n",
    "\n",
    "van_geojson.boundary.plot(ax = ax, edgecolor = 'black')\n",
    "# set theft type as scatterplot color\n",
    "sns.scatterplot(sample_df['Longitude'], sample_df['Latitude'], marker = 'o', \n",
    "                hue = df['TYPE'], ax = ax)\n",
    "                \n",
    "# move the legend to the right of the plot\n",
    "ax.legend(loc = 'center right', bbox_to_anchor=(1.7, 0.5), ncol=1) \n",
    "\n",
    "ax.axis('off')\n",
    "plt.show()"
   ]
  },
  {
   "cell_type": "code",
   "execution_count": null,
   "metadata": {},
   "outputs": [],
   "source": [
    "def animate_map(time_col):\n",
    "    fig = px.scatter_mapbox(sample_df,\n",
    "              lat=\"Latitude\" ,\n",
    "              lon=\"Longitude\",\n",
    "              hover_name=\"TYPE\",\n",
    "              color=\"TYPE\",\n",
    "              animation_frame=time_col,\n",
    "              mapbox_style='carto-positron',\n",
    "              category_orders={\n",
    "              time_col:list(np.sort(sample_df[time_col].unique()))\n",
    "              },                  \n",
    "              zoom=10)\n",
    "    fig.show();\n",
    "animate_map(time_col='YEAR')"
   ]
  },
  {
   "cell_type": "code",
   "execution_count": null,
   "metadata": {},
   "outputs": [],
   "source": [
    "df_cumsum = (sample_df\n",
    ".query('NEIGHBOURHOOD != \"Stanley Park\"')\n",
    ".replace({'Arbutus Ridge':'Arbutus-Ridge',\n",
    "'Central Business District':'Downtown',\n",
    "'Musqueam':'Dunbar-Southlands'})\n",
    ")\n",
    "                             \n",
    "# count all crimes within each neighbourhood\n",
    "df_counts_total = pd.DataFrame(df_cumsum.groupby('NEIGHBOURHOOD').size(),\n",
    "                  columns = ['Count']).reset_index()\n",
    "                  \n",
    "# merge the count data with the shapefile for plotting\n",
    "df_merged_total = van_geojson.set_index('name').join(df_counts_total.set_index('NEIGHBOURHOOD'))\n",
    "df_merged_total"
   ]
  },
  {
   "cell_type": "code",
   "execution_count": null,
   "metadata": {},
   "outputs": [],
   "source": [
    "fig, ax = plt.subplots(figsize = (12,10))\n",
    "\n",
    "df_merged_total.plot(column='Count', cmap='Reds', linewidth=1, ax=ax, \n",
    "                  edgecolor='0.3', alpha = 0.8)\n",
    "\n",
    "# labels will be placed at the polygon's center\n",
    "df_merged_total['lbl_pts'] = df_merged_total['geometry'].\\\n",
    "                          apply(lambda x: x.representative_point().coords[0])\n",
    "\n",
    "# annotate polygons with neighborhood name abbreviations\n",
    "for _ , row in df_merged_total.iterrows():\n",
    "    plt.annotate(s=row['mapid'], xy=row['lbl_pts'], ha='center')\n",
    "    \n",
    "\n",
    "sm = plt.cm.ScalarMappable(cmap='Reds' , \n",
    "            norm=plt.Normalize(vmin=min(df_merged_total['Count']), \n",
    "                               vmax=max(df_merged_total['Count'])))\n",
    "\n",
    "ax.axis('off')\n",
    "cbar = fig.colorbar(sm)\n",
    "                     \n",
    "plt.show()"
   ]
  },
  {
   "cell_type": "code",
   "execution_count": null,
   "metadata": {},
   "outputs": [],
   "source": [
    "# groupby time and neighbourhood to get all incidents for timestamps\n",
    "df_counts_rolling = pd.DataFrame(df_cumsum.groupby(['Date', 'NEIGHBOURHOOD']).size(), \n",
    "                    columns = ['Count']).reset_index()\n",
    "                    \n",
    "df_counts_rolling"
   ]
  },
  {
   "cell_type": "code",
   "execution_count": null,
   "metadata": {},
   "outputs": [],
   "source": [
    "\n",
    "from itertools import product\n",
    "\n",
    "# initiate empty df with every combination of Time x Neighborhood \n",
    "df_crime_final = pd.DataFrame(product(df_counts_rolling['NEIGHBOURHOOD'].unique(),\n",
    "                 df_counts_rolling['Date'].unique()), columns = ['NEIGHBOURHOOD', 'Date'])\n",
    "                 \n",
    "# get cumulated sum of crime counts for available time/neighborhood combinations\n",
    "df_crime_cumsum = pd.DataFrame(df_counts_rolling.groupby(['NEIGHBOURHOOD', 'Date']).\\\n",
    "                  sum().groupby(level=0).cumsum().reset_index())\n",
    "                  \n",
    "# merge cumsum df with empty df\n",
    "df_crime_final = df_crime_final.merge(df_crime_cumsum, on = ['NEIGHBOURHOOD', 'Date'], how = 'left').\\\n",
    "                 sort_values(['NEIGHBOURHOOD', 'Date'])\n",
    "                 \n",
    "# fill empty values by repeating previous values and adding 0s for initial timestamps\n",
    "df_crime_final = df_crime_final.groupby('NEIGHBOURHOOD').\\\n",
    "                 apply(lambda x : x.ffill().fillna(0))\n",
    "                 \n",
    "df_crime_final"
   ]
  },
  {
   "cell_type": "code",
   "execution_count": null,
   "metadata": {},
   "outputs": [],
   "source": [
    "# reformat Date as string for plotly\n",
    "df_crime_final['Date'] = df_crime_final['Date'].astype(str)\n",
    "\n",
    "fig = px.choropleth_mapbox(df_crime_final,\n",
    "                           geojson=van_geojson,\n",
    "                           featureidkey='properties.name',\n",
    "                           locations='NEIGHBOURHOOD',\n",
    "                           color='Count',\n",
    "                           hover_name='NEIGHBOURHOOD',\n",
    "                           hover_data=['Count'],\n",
    "                           color_continuous_scale='Reds',\n",
    "                           animation_frame='Date',\n",
    "                           mapbox_style='carto-positron',\n",
    "                           title='Cumulative Numbers of Crimes in Vancouver Neighborhoods',\n",
    "                           center={'lat':49.25, 'lon':-123.13},\n",
    "                           zoom=11,\n",
    "                           opacity=0.75,\n",
    "                           labels={'Count':'Count'},\n",
    "                           width=1100,\n",
    "                           height=800\n",
    "                          )\n",
    "\n",
    "fig.show()"
   ]
  }
 ],
 "metadata": {
  "interpreter": {
   "hash": "3dfc6b3e1128c01a802799252831f2efd653676ae19c278832bde84a9fe1937d"
  },
  "kernelspec": {
   "display_name": "Python 3.9.10 ('abm-py39')",
   "language": "python",
   "name": "python3"
  },
  "language_info": {
   "codemirror_mode": {
    "name": "ipython",
    "version": 3
   },
   "file_extension": ".py",
   "mimetype": "text/x-python",
   "name": "python",
   "nbconvert_exporter": "python",
   "pygments_lexer": "ipython3",
   "version": "3.9.10"
  },
  "orig_nbformat": 4
 },
 "nbformat": 4,
 "nbformat_minor": 2
}
