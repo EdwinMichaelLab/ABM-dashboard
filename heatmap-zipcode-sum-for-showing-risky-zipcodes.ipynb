{
 "cells": [
  {
   "cell_type": "code",
   "execution_count": null,
   "metadata": {},
   "outputs": [],
   "source": [
    "from collections import OrderedDict\n",
    "from sqlite3 import DateFromTicks\n",
    "\n",
    "#from zmq import VERSION_PATCH\n",
    "import dash\n",
    "#import dash_core_components as dcc\n",
    "from dash import dcc\n",
    "#import dash_html_components as html\n",
    "from dash import html\n",
    "from dash.dependencies import Input, Output, State, ClientsideFunction\n",
    "#import dash_core_components as dcc\n",
    "from dash import dcc\n",
    "import plotly.express as px\n",
    "import plotly.graph_objects as go\n",
    "import  plotly as py\n",
    "import pandas as pd\n",
    "import sys\n",
    "import numpy as np\n",
    "import os\n",
    "import geopandas as gpd\n",
    "#import pandas as pd\n",
    "#from dask import dataframe as dd\n",
    "import plotly.express as px\n",
    "import  plotly as py\n",
    "from plotly.subplots import make_subplots\n",
    "import os\n",
    "from pyproj import Transformer\n",
    "from shapely.geometry import Point\n",
    "import math\n",
    "import random\n",
    "from datetime import datetime, date, timedelta, time\n",
    "import queue\n",
    "import threading\n",
    "import time\n",
    "from sklearn.metrics import mean_squared_error\n",
    "from sklearn.metrics import mean_absolute_percentage_error\n",
    "from flask_caching import Cache\n",
    "import numbers\n",
    "\n",
    "import matplotlib.pyplot as plt\n",
    "from plotly.tools import mpl_to_plotly\n",
    "\n",
    "path = os.path.join('..', 'ABM-simulator', 'SimulationEngine', 'output', '0308', 'run-no-intervention')"
   ]
  },
  {
   "cell_type": "code",
   "execution_count": null,
   "metadata": {},
   "outputs": [],
   "source": [
    "min_step=0\n",
    "max_step=700\n",
    "\n",
    "columns_being_used_in_heatmap=[\n",
    "    'step',\n",
    "    'x',\n",
    "    'y',\n",
    "    'z',\n",
    "    'zip',\n",
    "]\n",
    "filters_settting=[('step','>=', min_step), ('step', '<=', max_step)]\n",
    "\n",
    "pdf = pd.read_parquet(os.path.join(path, 'heatmap.snappy.parquet'),\n",
    "                    filters=filters_settting,\n",
    "                    columns=columns_being_used_in_heatmap,\n",
    ")\n",
    "pdf\n",
    "riskzips_df=pdf.groupby(['step', 'zip']).sum()\n",
    "riskzips_df"
   ]
  }
 ],
 "metadata": {
  "interpreter": {
   "hash": "3dfc6b3e1128c01a802799252831f2efd653676ae19c278832bde84a9fe1937d"
  },
  "kernelspec": {
   "display_name": "Python 3.9.10 ('abm-py39')",
   "language": "python",
   "name": "python3"
  },
  "language_info": {
   "codemirror_mode": {
    "name": "ipython",
    "version": 3
   },
   "file_extension": ".py",
   "mimetype": "text/x-python",
   "name": "python",
   "nbconvert_exporter": "python",
   "pygments_lexer": "ipython3",
   "version": "3.9.10"
  },
  "orig_nbformat": 4
 },
 "nbformat": 4,
 "nbformat_minor": 2
}
