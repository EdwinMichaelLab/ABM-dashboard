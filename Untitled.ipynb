{
 "cells": [
  {
   "cell_type": "code",
   "execution_count": 1,
   "id": "5722920f",
   "metadata": {},
   "outputs": [],
   "source": [
    "import dash\n",
    "#import dash_core_components as dcc\n",
    "from dash import dcc\n",
    "#import dash_html_components as html\n",
    "from dash import html\n",
    "from dash.dependencies import Input, Output, State, ClientsideFunction\n",
    "#import dash_core_components as dcc\n",
    "from dash import dcc\n",
    "import plotly.express as px\n",
    "import plotly.graph_objects as go\n",
    "import  plotly as py\n",
    "import pandas as pd\n",
    "import sys\n",
    "import numpy as np\n",
    "import os\n",
    "import geopandas as gpd\n",
    "import pandas as pd\n",
    "from dask import dataframe as dd\n",
    "import plotly.express as px\n",
    "import  plotly as py\n",
    "from plotly.subplots import make_subplots\n",
    "import os\n",
    "from pyproj import Transformer\n",
    "from shapely.geometry import Point\n",
    "import math\n",
    "import random\n",
    "from datetime import datetime, date, timedelta, time\n",
    "import queue\n",
    "import threading\n",
    "import time\n",
    "from sklearn.metrics import mean_squared_error\n",
    "from sklearn.metrics import mean_absolute_percentage_error\n",
    "\n",
    "import vaex"
   ]
  },
  {
   "cell_type": "code",
   "execution_count": 2,
   "id": "294be4f4",
   "metadata": {},
   "outputs": [
    {
     "name": "stdout",
     "output_type": "stream",
     "text": [
      "..\\EDEN-ABM-Simulator\\SimulationEngine\\output\\2021-12-29\\run4\n"
     ]
    }
   ],
   "source": [
    "MAX_ROWS=10000000\n",
    "path = os.path.join('..', 'EDEN-ABM-Simulator', 'SimulationEngine', 'output', '2021-12-29', 'run4')\n",
    "\n",
    "#path = os.path.join('..', 'EDEN-ABM-Simulator-old', 'SimulationEngine', 'output', '2021-12-10', 'run12')\n",
    "#path2 = os.path.join('..', 'EDEN-ABM-Simulator', 'SimulationEngine', 'output', '2021-12-21', 'run2')\n",
    "print(path)\n",
    "#print(path2)\n",
    "\n",
    "SF1 = 22\n",
    "SF2 = 5\n",
    "\n",
    "#CHUNK_SIZE1=2000000\n",
    "#CHUNK_SIZE2=2000000\n",
    "CHUNK_SIZE1=1000000\n",
    "CHUNK_SIZE2=1000000\n",
    "\n",
    "#SKIP_EVERY_NTH_1=100 # best at 2\n",
    "SKIP_EVERY_NTH_1=100 # best at 2\n",
    "SAMPLING_PERCENT_1=0.2 # default 0.25\n",
    "\n",
    "#SKIP_EVERY_NTH_2=10 # best at 2\n",
    "SKIP_EVERY_NTH_2=10 # best at 2\n",
    "SAMPLING_PERCENT_2=0.2 # default 0.5"
   ]
  },
  {
   "cell_type": "code",
   "execution_count": 20,
   "id": "f8ede091",
   "metadata": {},
   "outputs": [
    {
     "name": "stdout",
     "output_type": "stream",
     "text": [
      "          step          x          y  z    zip\n",
      "0            1 -82.631132  28.072038  2  33626\n",
      "1            1 -82.582204  27.996186  1  33615\n",
      "2            1 -82.578203  28.093127  1  33556\n",
      "3            1 -82.565722  27.995994  2  33615\n",
      "4            1 -82.539271  28.083948  1  33624\n",
      "...        ...        ...        ... ..    ...\n",
      "58178616   548 -82.055738  27.927590  1  33567\n",
      "58178617   548 -82.055691  27.713787  2  33547\n",
      "58178618   548 -82.055640  27.880129  1  33547\n",
      "58178619   548 -82.055453  27.861588  4  33547\n",
      "58178620   548 -82.055179  27.713740  3  33547\n",
      "\n",
      "[58178621 rows x 5 columns]\n",
      "heatmap data size(before 0.2 sampling) 290893105\n",
      "heatmap data size(after 0.2 sampling) 58178620\n",
      "          step          x          y  z    zip\n",
      "0            1 -82.631132  28.072038  2  33626\n",
      "1            1 -82.582204  27.996186  1  33615\n",
      "2            1 -82.578203  28.093127  1  33556\n",
      "3            1 -82.565722  27.995994  2  33615\n",
      "4            1 -82.539271  28.083948  1  33624\n",
      "...        ...        ...        ... ..    ...\n",
      "58178616   548 -82.055738  27.927590  1  33567\n",
      "58178617   548 -82.055691  27.713787  2  33547\n",
      "58178618   548 -82.055640  27.880129  1  33547\n",
      "58178619   548 -82.055453  27.861588  4  33547\n",
      "58178620   548 -82.055179  27.713740  3  33547\n",
      "\n",
      "[58178621 rows x 5 columns]\n",
      "heatmap data size(before 0.2 sampling) 290893105\n",
      "heatmap data size(after 0.2 sampling) 58178620\n",
      "29.5 s ± 0 ns per loop (mean ± std. dev. of 1 run, 1 loop each)\n"
     ]
    }
   ],
   "source": [
    "%%timeit -r 1 \n",
    "tp = pd.read_csv(os.path.join(path, 'heatmap.csv'), iterator=True, chunksize=1000000)\n",
    "pdf = pd.concat(tp, ignore_index=True)\n",
    "print(pdf)\n",
    "old_pdf=pdf.copy()\n",
    "print('heatmap data size(before '+ str(SAMPLING_PERCENT_2) +' sampling)', pdf.size)\n",
    "pdf = pdf.sample(frac=SAMPLING_PERCENT_2)\n",
    "print('heatmap data size(after '+ str(SAMPLING_PERCENT_2) +' sampling)', pdf.size)\n",
    "pdf = pdf.sort_values(by='step')\n",
    "\n",
    "#from pandas.testing import assert_frame_equal\n",
    "#assert_frame_equal(pdf, old_pdf)"
   ]
  },
  {
   "cell_type": "code",
   "execution_count": 21,
   "id": "602ed617",
   "metadata": {},
   "outputs": [
    {
     "name": "stdout",
     "output_type": "stream",
     "text": [
      "<class 'pandas.core.frame.DataFrame'>\n",
      "RangeIndex: 5817862 entries, 0 to 5817861\n",
      "Data columns (total 5 columns):\n",
      " #   Column  Dtype  \n",
      "---  ------  -----  \n",
      " 0   step    int64  \n",
      " 1   x       float64\n",
      " 2   y       float64\n",
      " 3   z       int64  \n",
      " 4   zip     int64  \n",
      "dtypes: float64(2), int64(3)\n",
      "memory usage: 221.9 MB\n"
     ]
    }
   ],
   "source": [
    "pdf.info()"
   ]
  },
  {
   "cell_type": "code",
   "execution_count": 27,
   "id": "45b486e4",
   "metadata": {},
   "outputs": [
    {
     "name": "stdout",
     "output_type": "stream",
     "text": [
      "scatter data size(before 0.2 sampling) -1836147847\n",
      "scatter data size(after 0.2 sampling) 491763888\n",
      "scatter data size(before 0.2 sampling) -1836147847\n",
      "scatter data size(after 0.2 sampling) 491763888\n",
      "4min 15s ± 0 ns per loop (mean ± std. dev. of 1 run, 1 loop each)\n"
     ]
    }
   ],
   "source": [
    "%%timeit -r 1\n",
    "tp2 = pd.read_csv(os.path.join(path, 'scatter.csv'), iterator=True, chunksize=CHUNK_SIZE1)\n",
    "pdf2 = pd.concat(tp2, ignore_index=True)\n",
    "print('scatter data size(before '+ str(SAMPLING_PERCENT_1) +' sampling)', pdf2.size)\n",
    "pdf2 = pdf2.sample(frac=SAMPLING_PERCENT_1) # (???) similar to geting every 4th rows\n",
    "print('scatter data size(after '+ str(SAMPLING_PERCENT_1) +' sampling)', pdf2.size)\n",
    "pdf2 = pdf2.sort_values(by='step')"
   ]
  },
  {
   "cell_type": "code",
   "execution_count": 25,
   "id": "ce11c6e6",
   "metadata": {},
   "outputs": [
    {
     "name": "stdout",
     "output_type": "stream",
     "text": [
      "<class 'pandas.core.frame.DataFrame'>\n",
      "Int64Index: 54640432 entries, 15 to 272944113\n",
      "Data columns (total 9 columns):\n",
      " #   Column    Dtype  \n",
      "---  ------    -----  \n",
      " 0   step      int64  \n",
      " 1   pid       int64  \n",
      " 2   x         float64\n",
      " 3   y         float64\n",
      " 4   location  int64  \n",
      " 5   ZIP       int64  \n",
      " 6   type      object \n",
      " 7   state     object \n",
      " 8   color     object \n",
      "dtypes: float64(2), int64(4), object(3)\n",
      "memory usage: 4.1+ GB\n"
     ]
    }
   ],
   "source": [
    "pdf2.info()"
   ]
  },
  {
   "cell_type": "code",
   "execution_count": null,
   "id": "9bde49e8",
   "metadata": {},
   "outputs": [],
   "source": []
  }
 ],
 "metadata": {
  "kernelspec": {
   "display_name": "Python [conda env:abm-py39] *",
   "language": "python",
   "name": "conda-env-abm-py39-py"
  },
  "language_info": {
   "codemirror_mode": {
    "name": "ipython",
    "version": 3
   },
   "file_extension": ".py",
   "mimetype": "text/x-python",
   "name": "python",
   "nbconvert_exporter": "python",
   "pygments_lexer": "ipython3",
   "version": "3.9.10"
  }
 },
 "nbformat": 4,
 "nbformat_minor": 5
}
