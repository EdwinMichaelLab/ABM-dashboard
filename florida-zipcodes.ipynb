{
 "cells": [
  {
   "cell_type": "markdown",
   "metadata": {},
   "source": [
    "### Download shape file here: https://www.census.gov/geographies/mapping-files/time-series/geo/cartographic-boundary.html"
   ]
  },
  {
   "cell_type": "code",
   "execution_count": null,
   "metadata": {},
   "outputs": [],
   "source": [
    "import geopandas as gpd\n",
    "df_map = gpd.read_file('../../Florida-zipcodes-csv/cb_2020_us_zcta520_500k.shp')\n",
    "df_map.head()"
   ]
  },
  {
   "cell_type": "code",
   "execution_count": null,
   "metadata": {},
   "outputs": [],
   "source": [
    "ZIPS = ['33510', '33511', '33527', '33534', '33547', '33548', '33549', '33556', '33558', '33559', '33563', '33565',\n",
    "            '33566', '33567', '33569', '33570', '33572', '33573', '33578', '33579', '33584', '33592', '33594', '33596',\n",
    "            '33598', '33602', '33603', '33604', '33605', '33606', '33607', '33609', '33610', '33611', '33612', '33613',\n",
    "            '33614', '33615', '33616', '33617', '33618', '33619', '33624', '33625', '33626', '33629', '33634', '33635',\n",
    "            '33637', '33647',\n",
    "            '33620', '33503']\n",
    "\n",
    "# ZIPS=['33647']"
   ]
  },
  {
   "cell_type": "code",
   "execution_count": null,
   "metadata": {},
   "outputs": [],
   "source": [
    "hillsborough=df_map[df_map['ZCTA5CE20'].isin(ZIPS)]\n",
    "hillsborough.rename(columns={'ZCTA5CE20':'zipcode'}, inplace=True)\n",
    "#hillsborough\n",
    "hillsborough['zip_code'] = hillsborough['zipcode'].astype('str')\n",
    "hillsborough['zip_code'] = hillsborough['zip_code'].str.pad(5, 'left', '0')\n",
    "hillsborough['zip_code'] = hillsborough['zip_code'].str.slice(0,3)\n",
    "hillsborough['zip_code'] = hillsborough['zip_code'].str.pad(5, 'right', 'x')\n",
    "hillsborough"
   ]
  },
  {
   "cell_type": "code",
   "execution_count": null,
   "metadata": {},
   "outputs": [],
   "source": []
  },
  {
   "cell_type": "code",
   "execution_count": null,
   "metadata": {},
   "outputs": [],
   "source": [
    "from uszipcode import SearchEngine\n",
    "\n",
    "search = SearchEngine(simple_or_comprehensive=SearchEngine.SimpleOrComprehensiveArgEnum.simple)\n",
    "zipcode = search.by_zipcode(\"33647\")\n",
    "zipcode"
   ]
  },
  {
   "cell_type": "code",
   "execution_count": null,
   "metadata": {},
   "outputs": [],
   "source": [
    "hillsborough['state'] = hillsborough.apply(lambda row: search.by_zipcode(row.zipcode).state, axis=1)\n",
    "hillsborough['county'] = hillsborough.apply(lambda row: search.by_zipcode(row.zipcode).county, axis=1)\n",
    "#hillsborough"
   ]
  },
  {
   "cell_type": "code",
   "execution_count": null,
   "metadata": {},
   "outputs": [],
   "source": [
    "import pandas as pd\n",
    "import random\n",
    "df_redlines=pd.DataFrame(ZIPS, columns=['zipcode'])\n",
    "\n",
    "df_redlines['zip_area']=[random.random() for x in range(len(ZIPS))]\n",
    "#df_redlines"
   ]
  },
  {
   "cell_type": "code",
   "execution_count": null,
   "metadata": {},
   "outputs": [],
   "source": [
    "import matplotlib.pyplot as plt\n",
    "\n",
    "df_redlines_maps = hillsborough.merge(df_redlines, on='zipcode', how='left')\n",
    "dfm = df_redlines_maps[df_redlines_maps.zip_area>0]\n",
    "#dfm\n",
    "#dfm.to_csv(\"hillsborough-zipcodes-boundarymap.csv\", index=False) # dataframe\n",
    "#dfm.to_file(\"hillsborough-zipcodes-boundarymap.geojson\", driver=\"GeoJSON\")\n",
    "#dfm.to_json()"
   ]
  },
  {
   "cell_type": "code",
   "execution_count": null,
   "metadata": {},
   "outputs": [],
   "source": [
    "ZIPS_centers={ '33510':[27.96, -82.30], \n",
    "                '33511':[27.90, -82.30],\n",
    "                '33527':[27.97, -82.22],\n",
    "                '33534':[27.83, -82.38],\n",
    "                '33547':[27.8, -82.1-0.05],\n",
    "                '33548':[28.15, -82.48],\n",
    "                '33549':[28.14, -82.45],\n",
    "                '33556':[28.2, -82.6],\n",
    "                '33558':[28.16, -82.51],\n",
    "                '33559':[28.16, -82.40-0.02],\n",
    "                '33563':[28.02, -82.13],\n",
    "                '33565':[28.10, -82.15],\n",
    "                '33566':[27.99-0.01, -82.13],\n",
    "                '33567':[27.91, -82.12],\n",
    "                '33569':[27.85, -82.29],\n",
    "                '33570':[27.70, -82.47],\n",
    "                '33572':[27.77, -82.40],\n",
    "                '33573':[27.73, -82.36],\n",
    "                '33578':[27.84+0.04, -82.35],\n",
    "                '33579':[27.80, -82.28],\n",
    "                '33584':[28.00, -82.29],\n",
    "                '33592':[28.10, -82.28],\n",
    "                '33594':[27.94, -82.24],\n",
    "                '33596':[27.89, -82.23],\n",
    "                '33598':[27.7, -82.3],\n",
    "                '33602':[27.95, -82.46],\n",
    "                '33603':[27.99, -82.46],\n",
    "                '33604':[28.01, -82.45],\n",
    "                '33605':[27.94, -82.43],\n",
    "                '33606':[27.93, -82.46],\n",
    "                '33607':[27.96, -82.54],\n",
    "                '33609':[27.94, -82.52],\n",
    "                '33610':[28.00, -82.38],\n",
    "                '33611':[27.89, -82.51],\n",
    "                '33612':[28.05, -82.45],\n",
    "                '33613':[28.09, -82.45],\n",
    "                '33614':[28.01, -82.50],\n",
    "                '33615':[28.00, -82.58],\n",
    "                '33616':[27.86, -82.53],\n",
    "                '33617':[28.04, -82.39],\n",
    "                '33618':[28.08-0.01, -82.50],\n",
    "                '33619':[27.90+0.04, -82.38],\n",
    "                '33624':[28.08+0.01, -82.52],\n",
    "                '33625':[28.07, -82.56],\n",
    "                '33626':[28.06, -82.61],\n",
    "                '33629':[27.92, -82.51],\n",
    "                '33634':[28.00, -82.54],\n",
    "                '33635':[28.02, -82.61],\n",
    "                '33637':[28.05, -82.36],\n",
    "                '33647':[28.12, -82.35-0.04],\n",
    "                '33620':[28.062, -82.410],\n",
    "                '33503':[27.753, -82.2883]}"
   ]
  },
  {
   "cell_type": "code",
   "execution_count": null,
   "metadata": {},
   "outputs": [],
   "source": [
    "fig, ax = plt.subplots(1, figsize=(15, 20))\n",
    "#dfm.plot(marker='o', facecolors='none', edgecolors='black', linewidth=0.5, markersize=100, alpha=.2, ax=ax)\n",
    "#dfm.plot(ax=ax, alpha=.1)\n",
    "# cmap='Accent', 'Accent_r', 'Blues', 'Blues_r', 'BrBG', 'BrBG_r', 'BuGn', 'BuGn_r', 'BuPu', 'BuPu_r', \n",
    "# 'CMRmap', 'CMRmap_r', 'Dark2', 'Dark2_r', 'GnBu', 'GnBu_r', 'Greens', 'Greens_r', \n",
    "# 'Greys', 'Greys_r', 'OrRd', 'OrRd_r', 'Oranges', 'Oranges_r', \n",
    "# 'PRGn', 'PRGn_r', 'Paired', 'Paired_r', 'Pastel1', 'Pastel1_r', 'Pastel2', 'Pastel2_r', \n",
    "# 'PiYG', 'PiYG_r', 'PuBu', 'PuBuGn', 'PuBuGn_r', 'PuBu_r', 'PuOr', 'PuOr_r', 'PuRd', 'PuRd_r', \n",
    "# 'Purples', 'Purples_r', 'RdBu', 'RdBu_r', 'RdGy', 'RdGy_r', 'RdPu', 'RdPu_r', 'RdYlBu', \n",
    "# 'RdYlBu_r', 'RdYlGn', 'RdYlGn_r', 'Reds', 'Reds_r', 'Set1', 'Set1_r', 'Set2', 'Set2_r', \n",
    "# 'Set3', 'Set3_r', 'Spectral', 'Spectral_r', 'Wistia', 'Wistia_r', 'YlGn', 'YlGnBu', 'YlGnBu_r', \n",
    "# 'YlGn_r', 'YlOrBr', 'YlOrBr_r', 'YlOrRd', 'YlOrRd_r', 'afmhot', 'afmhot_r', 'autumn', 'autumn_r', \n",
    "# 'binary', 'binary_r', 'bone', 'bone_r', 'brg', 'brg_r', 'bwr', 'bwr_r', 'cividis', 'cividis_r', \n",
    "# 'cool', 'cool_r', 'coolwarm', 'coolwarm_r', 'copper', 'copper_r', 'cubehelix', 'cubehelix_r', \n",
    "# 'flag', 'flag_r', 'gist_earth', 'gist_earth_r', 'gist_gray', 'gist_gray_r', 'gist_heat', \n",
    "# 'gist_heat_r', 'gist_ncar', 'gist_ncar_r', 'gist_rainbow', 'gist_rainbow_r', 'gist_stern', \n",
    "# 'gist_stern_r', 'gist_yarg', 'gist_yarg_r', 'gnuplot', 'gnuplot2', 'gnuplot2_r', 'gnuplot_r', \n",
    "# 'gray', 'gray_r', 'hot', 'hot_r', 'hsv', 'hsv_r', 'inferno', 'inferno_r', 'jet', 'jet_r', \n",
    "# 'magma', 'magma_r', 'nipy_spectral', 'nipy_spectral_r', 'ocean', 'ocean_r', 'pink', 'pink_r', \n",
    "# 'plasma', 'plasma_r', 'prism', 'prism_r', 'rainbow', 'rainbow_r', 'seismic', 'seismic_r', 'spring', \n",
    "# 'spring_r', 'summer', 'summer_r', 'tab10', 'tab10_r', 'tab20', 'tab20_r', 'tab20b', 'tab20b_r', \n",
    "# 'tab20c', 'tab20c_r', 'terrain', 'terrain_r', 'turbo', 'turbo_r', 'twilight', 'twilight_r', \n",
    "# 'twilight_shifted', 'twilight_shifted_r', 'viridis', 'viridis_r', 'winter', 'winter_r'\n",
    "dfm.plot(ax=ax, column='zip_area', k=3, edgecolors='black', linewidth=0.1, cmap='GnBu_r', legend=True,\n",
    "    legend_kwds={'label': \"risky area\", 'orientation': 'horizontal',\n",
    "    'pad':0.05, 'shrink':0.2}) \n",
    "#ax.axis('off')\n",
    "ax.set_title('Florida Hillsborough County Zipcodes', fontdict={'fontsize': '20', 'fontweight' : '3'})\n",
    "\n",
    "for z in range(len(ZIPS)):\n",
    "    text = ax.text(ZIPS_centers[ZIPS[z]][1], ZIPS_centers[ZIPS[z]][0], str(ZIPS[z]), \n",
    "                    ha=\"center\", va=\"center\", \n",
    "                    color=\"black\")"
   ]
  },
  {
   "cell_type": "code",
   "execution_count": null,
   "metadata": {},
   "outputs": [],
   "source": [
    "#dfm2=pd.read_csv(\"hillsborough-zipcodes-boundarymap.csv\")\n",
    "dfm2=gpd.read_file(\"hillsborough-zipcodes-boundarymap.geojson\")\n",
    "type(dfm2)\n",
    "dfm2.geometry"
   ]
  },
  {
   "cell_type": "code",
   "execution_count": null,
   "metadata": {},
   "outputs": [],
   "source": [
    "from plotly.tools import mpl_to_plotly\n",
    "\n",
    "fig2, ax2 = plt.subplots(1, figsize=(15, 20))\n",
    "\n",
    "\n",
    "for z in range(len(ZIPS)):\n",
    "    text = ax2.text(ZIPS_centers[ZIPS[z]][1], ZIPS_centers[ZIPS[z]][0], str(ZIPS[z]), \n",
    "                    ha=\"center\", va=\"center\", \n",
    "                    color=\"black\")\n",
    "ax2.set_title('Florida Hillsborough County Zipcodes', fontdict={'fontsize': '20', 'fontweight' : '3'})\n",
    "dfm2.plot(ax=ax2, column='zip_area', k=3, edgecolors='black', linewidth=0.1, cmap='GnBu_r', legend=True,\n",
    "    legend_kwds={'label': \"risky area\", 'orientation': 'horizontal',\n",
    "    'pad':0.05, 'shrink':0.2})\n",
    "fig2.savefig(\"temp.jpg\")\n",
    "#ax.axis('off')\n",
    "\n"
   ]
  },
  {
   "cell_type": "code",
   "execution_count": null,
   "metadata": {},
   "outputs": [],
   "source": [
    "zipcenters_df=pd.DataFrame(ZIPS_centers)\n",
    "zipcenters_df=zipcenters_df.transpose()\n",
    "zipcenters_df.reset_index(inplace=True)\n",
    "zipcenters_df=zipcenters_df.rename(columns = {'index':'zipcode'})  \n",
    "zipcenters_df['zipcode'].astype(str)"
   ]
  },
  {
   "cell_type": "code",
   "execution_count": null,
   "metadata": {},
   "outputs": [],
   "source": [
    "import plotly.express as px\n",
    "import plotly.graph_objects as go\n",
    "\n",
    "#fig = px.choropleth(dfm2, geojson=dfm2.geometry, locations=\"zipcode\", color=\"zip_area\", locationmode=\"USA-states\")\n",
    "#fig.update_geos(fitbounds=\"locations\", visible=False)\n",
    "\n",
    "fig = px.choropleth_mapbox(dfm2, geojson=dfm2, locations='zipcode', color='zip_area', featureidkey=\"properties.zipcode\",\n",
    "                           color_continuous_scale=\"Viridis\",\n",
    "                           #range_color=(0, 12),\n",
    "                           #mapbox_style=\"carto-positron\",\n",
    "                           #mapbox_style='white-bg',\n",
    "                           mapbox_style=\"open-street-map\",\n",
    "                           zoom=9, center = {\"lat\": 27.91, \"lon\": -82.4},\n",
    "                           opacity=0.5,\n",
    "                           #labels={'zip_area':'random'}\n",
    "                          )\n",
    "zipcenters_df=pd.DataFrame(ZIPS_centers)\n",
    "zipcenters_df=zipcenters_df.transpose()\n",
    "zipcenters_df.reset_index(inplace=True)\n",
    "zipcenters_df=zipcenters_df.rename(columns = {'index':'zipcode'})    \n",
    "texttrace = go.Scattermapbox(\n",
    "        lat=zipcenters_df[0],\n",
    "        lon=zipcenters_df[1],\n",
    "        text=zipcenters_df['zipcode'].astype(str),\n",
    "        #text=ZIPS,\n",
    "        textfont={\"color\":\"red\",\"size\":100},\n",
    "        #textposition = \"bottom right\",\n",
    "        mode=\"text\",\n",
    "        marker = {'size': 10},\n",
    "\n",
    "        #name=\"Hillsborough zipcode\",\n",
    ")\n",
    "fig.add_trace(texttrace)                      \n",
    "fig.update_layout(margin={\"r\":0,\"t\":0,\"l\":0,\"b\":0})\n",
    "fig.show()\n"
   ]
  },
  {
   "cell_type": "code",
   "execution_count": null,
   "metadata": {},
   "outputs": [],
   "source": [
    "ZIPS = ['33510', '33511', '33527', '33534', '33547', '33548', '33549', '33556', '33558', '33559', '33563', '33565',\n",
    "            '33566', '33567', '33569', '33570', '33572', '33573', '33578', '33579', '33584', '33592', '33594', '33596',\n",
    "            '33598', '33602', '33603', '33604', '33605', '33606', '33607', '33609', '33610', '33611', '33612', '33613',\n",
    "            '33614', '33615', '33616', '33617', '33618', '33619', '33624', '33625', '33626', '33629', '33634', '33635',\n",
    "            '33637', '33647',\n",
    "            '33620', '33503']\n",
    "\n",
    "# ZIPS=['33647']\n",
    "\n",
    "import pandas as pd\n",
    "#path = os.path.join('..', 'ABM-simulator', 'SimulationEngine', 'output', '0316', 'run-weighted')\n",
    "#path = os.path.join('..', 'ABM-simulator', 'SimulationEngine', 'output', 'run1-imran-0301')\n",
    "\n",
    "path = os.path.join('..', 'ABM-simulator', 'SimulationEngine', 'output', 'split-with-new-step')\n",
    "#path = os.path.join('..', 'ABM-simulator', 'SimulationEngine', 'output', 'final-simul-20p')\n",
    "min_step=0\n",
    "max_step=700\n",
    "\n",
    "columns_being_used_in_heatmap=[\n",
    "    'step',\n",
    "    'x',\n",
    "    'y',\n",
    "    'z',\n",
    "    'zip',\n",
    "]\n",
    "filters_settting=[('step','>=', min_step), ('step', '<=', max_step)]\n",
    "\n",
    "pdf = pd.read_parquet(os.path.join(path, 'heatmap.snappy.parquet'),\n",
    "                    filters=filters_settting,\n",
    "                    columns=columns_being_used_in_heatmap,\n",
    ")\n",
    "#pdf.info()\n",
    "dlist=[]\n",
    "for s in range(max_step+1):\n",
    "    for z in range(len(ZIPS)):\n",
    "        d=pdf.loc[(pdf['step']==s) & (pdf['zip']==int(ZIPS[z]))]\n",
    "        risk=[s, ZIPS[z], d['z'].sum()]\n",
    "        #print(risk)\n",
    "        dlist.append(pd.DataFrame(risk))\n",
    "riskzips_df = pd.concat(dlist, axis=1)\n",
    "riskzips_df = riskzips_df.transpose()\n",
    "riskzips_df.reset_index(inplace=True)\n",
    "riskzips_df.rename(columns={0:'step', 1:'zipcode', 2:'risk'}, inplace=True)\n",
    "#riskzips_df.to_parquet(\"../risky_zipcodes.parquet\")\n",
    "\n",
    "\n",
    "#df.drop('index', inplace=True)\n",
    "    #print(ZIPS[z])\n",
    "\n",
    "#riskzips_df=pdf.groupby(['step']).sum().plot()\n",
    "#riskzips_df=pdf.groupby(['step']).sum()\n",
    "#riskzips_df.reset_index(inplace=True)\n",
    "#riskzips_df= riskzips_df.rename(columns = {'zip':'zipcode'})\n",
    "#riskzips_df['risk']=riskzips_df['z']"
   ]
  },
  {
   "cell_type": "code",
   "execution_count": null,
   "metadata": {},
   "outputs": [],
   "source": [
    "#riskzips_df.to_parquet(\"../risky_zipcodes.parquet\")"
   ]
  },
  {
   "cell_type": "code",
   "execution_count": null,
   "metadata": {},
   "outputs": [],
   "source": [
    "riskzips_df"
   ]
  },
  {
   "cell_type": "code",
   "execution_count": null,
   "metadata": {},
   "outputs": [],
   "source": [
    "from datetime import datetime, date, timedelta, time    \n",
    "\n",
    "startdate = date(2020, 3, 1)\n",
    "\n",
    "riskzips_df['Date']=[startdate+timedelta(days=d) for d in riskzips_df['step']]\n",
    "riskzips_df['Date']=riskzips_df['Date'].astype(str)\n",
    "\n",
    "riskzips_df['Date'] = pd.to_datetime(riskzips_df['Date'])\n",
    "riskzips_df['Week_Number'] = riskzips_df['Date'].dt.isocalendar().week\n",
    "riskzips_df['Year']=(riskzips_df['Date'] - riskzips_df['Date'].dt.weekday * timedelta(days=1)).dt.year\n",
    "riskzips_df.set_index('Date')"
   ]
  },
  {
   "cell_type": "code",
   "execution_count": null,
   "metadata": {},
   "outputs": [],
   "source": [
    "#riskzips_df = riskzips_df.groupby(['Year','Week_Number'], as_index=False).sum()\n",
    "#riskzips_df2 = riskzips_df.groupby(['Year','Week_Number', 'zipcode'], as_index=False).agg({'risk':'sum'})\n",
    "riskzips_df2 = riskzips_df.groupby(['Year','Week_Number', 'zipcode'], as_index=False).agg({'risk':'mean'})\n",
    "\n",
    "riskzips_df2['year_week']=riskzips_df2['Year'].astype(str)+'-W'+riskzips_df2['Week_Number'].astype(str)\n",
    "riskzips_df2['year_week2']=riskzips_df2['Year'].astype(int)*100+riskzips_df2['Week_Number'].astype(int)\n",
    "riskzips_df2['date'] = pd.to_datetime(riskzips_df2['year_week2'].astype(str) + '0', format='%Y%W%w') # do not use: last week of the year become weird...\n"
   ]
  },
  {
   "cell_type": "code",
   "execution_count": null,
   "metadata": {},
   "outputs": [],
   "source": [
    "riskzips_df2"
   ]
  },
  {
   "cell_type": "code",
   "execution_count": null,
   "metadata": {},
   "outputs": [],
   "source": [
    "# weekly... \n",
    "riskzips_df2.to_parquet(\"../risky_zipcodes2.parquet\")\n"
   ]
  },
  {
   "cell_type": "code",
   "execution_count": null,
   "metadata": {},
   "outputs": [],
   "source": [
    "riskzips_df2"
   ]
  },
  {
   "cell_type": "code",
   "execution_count": null,
   "metadata": {},
   "outputs": [],
   "source": [
    "import pandas as pd\n",
    "import plotly.express as px\n",
    "import geopandas as gpd\n",
    "\n",
    "riskzips_df2=pd.read_parquet(\"../risky_zipcodes2.parquet\")\n",
    "#riskzips_df2['date_str']=riskzips_df2['date'].apply(lambda x: str(x))\n",
    "riskzips_df2['date_str']=riskzips_df2['date'].dt.strftime('%Y-%m-%d')\n",
    "dfm2=gpd.read_file(\"hillsborough-zipcodes-boundarymap.geojson\")\n",
    "fig = px.choropleth_mapbox(riskzips_df2, geojson=dfm2, locations='zipcode', color='risk', featureidkey=\"properties.zipcode\",\n",
    "                           color_continuous_scale=\"Viridis_r\",\n",
    "                           #range_color=(0, 12),\n",
    "                           #mapbox_style=\"carto-positron\",\n",
    "                           #mapbox_style='white-bg',\n",
    "                           mapbox_style=\"open-street-map\",\n",
    "                           zoom=9, center = {\"lat\": 27.91, \"lon\": -82.4},\n",
    "                           opacity=0.5,\n",
    "                           #labels={'zip_area':'random'}\n",
    "                           #animation_frame='step',\n",
    "                           #animation_frame='year_week2',\n",
    "                           animation_frame='date_str',\n",
    "                          )\n",
    "            \n",
    "fig.update_layout(margin={\"r\":0,\"t\":0,\"l\":0,\"b\":0})\n",
    "fig.show()"
   ]
  },
  {
   "cell_type": "code",
   "execution_count": null,
   "metadata": {},
   "outputs": [],
   "source": [
    "riskzips_df2.info()"
   ]
  },
  {
   "cell_type": "code",
   "execution_count": null,
   "metadata": {},
   "outputs": [],
   "source": [
    "ZIPS_centers={ '33510':[27.96, -82.30], \n",
    "                '33511':[27.90, -82.30],\n",
    "                '33527':[27.97, -82.22],\n",
    "                '33534':[27.83, -82.38],\n",
    "                '33547':[27.8, -82.1],\n",
    "                '33548':[28.15, -82.48],\n",
    "                '33549':[28.14, -82.45],\n",
    "                '33556':[28.2, -82.6],\n",
    "                '33558':[28.16, -82.51],\n",
    "                '33559':[28.16, -82.40],\n",
    "                '33563':[28.02, -82.13],\n",
    "                '33565':[28.10, -82.15],\n",
    "                '33566':[27.99, -82.13],\n",
    "                '33567':[27.91, -82.12],\n",
    "                '33569':[27.85, -82.29],\n",
    "                '33570':[27.70, -82.47],\n",
    "                '33572':[27.77, -82.40],\n",
    "                '33573':[27.73, -82.36],\n",
    "                '33578':[27.84, -82.35],\n",
    "                '33579':[27.80, -82.28],\n",
    "                '33584':[28.00, -82.29],\n",
    "                '33592':[28.10, -82.28],\n",
    "                '33594':[27.94, -82.24],\n",
    "                '33596':[27.89, -82.23],\n",
    "                '33598':[27.7, -82.3],\n",
    "                '33602':[27.95, -82.46],\n",
    "                '33603':[27.99, -82.46],\n",
    "                '33604':[28.01, -82.45],\n",
    "                '33605':[27.94, -82.43],\n",
    "                '33606':[27.93, -82.46],\n",
    "                '33607':[27.96, -82.54],\n",
    "                '33609':[27.94, -82.52],\n",
    "                '33610':[28.00, -82.38],\n",
    "                '33611':[27.89, -82.51],\n",
    "                '33612':[28.05, -82.45],\n",
    "                '33613':[28.09, -82.45],\n",
    "                '33614':[28.01, -82.50],\n",
    "                '33615':[28.00, -82.58],\n",
    "                '33616':[27.86, -82.53],\n",
    "                '33617':[28.04, -82.39],\n",
    "                '33618':[28.08, -82.50],\n",
    "                '33619':[27.90, -82.38],\n",
    "                '33624':[28.08, -82.52],\n",
    "                '33625':[28.07, -82.56],\n",
    "                '33626':[28.06, -82.61],\n",
    "                '33629':[27.92, -82.51],\n",
    "                '33634':[28.00, -82.54],\n",
    "                '33635':[28.02, -82.61],\n",
    "                '33637':[28.05, -82.36],\n",
    "                '33647':[28.12, -82.35],\n",
    "                '33620':[28.062, -82.410],\n",
    "                '33503':[27.753, -82.2883]}\n",
    "\n",
    "riskzips_df2['y']=riskzips_df2.apply(\n",
    "    lambda x: ZIPS_centers[x.zipcode][0], axis=1\n",
    ")\n",
    "\n",
    "riskzips_df2['x']=riskzips_df2.apply(\n",
    "    lambda x: ZIPS_centers[x.zipcode][1], axis=1\n",
    ")"
   ]
  },
  {
   "cell_type": "code",
   "execution_count": null,
   "metadata": {},
   "outputs": [],
   "source": [
    "riskzips_df2"
   ]
  },
  {
   "cell_type": "code",
   "execution_count": null,
   "metadata": {},
   "outputs": [],
   "source": [
    "center_lat = 28.03711\n",
    "center_lon = -82.46390\n",
    "fig = px.density_mapbox(riskzips_df2,\n",
    "                        color_continuous_scale='RdYlGn_r',\n",
    "                        lat=riskzips_df2['y'],\n",
    "                        lon=riskzips_df2['x'],\n",
    "                        z=riskzips_df2['risk'],\n",
    "                        #animation_frame=pdf['step'],\n",
    "                        animation_frame='date_str',\n",
    "                        opacity=0.75,\n",
    "                        zoom=8,\n",
    "                        width=800,\n",
    "                        height=800,\n",
    "                        center=dict(lat=center_lat, lon=center_lon),\n",
    "                        # mapbox_style='open-street-map'\n",
    "                        mapbox_style='stamen-terrain')\n",
    "fig.show()"
   ]
  },
  {
   "cell_type": "code",
   "execution_count": null,
   "metadata": {},
   "outputs": [],
   "source": [
    "fig = px.scatter(riskzips_df2, x=riskzips_df2['x'], y=riskzips_df2['y'],\n",
    "\t         size=riskzips_df2['risk'], color=riskzips_df2['zipcode'],\n",
    "             #animation_frame='date_str',\n",
    "             hover_name=riskzips_df2['zipcode'], size_max=60)\n",
    "fig.show()"
   ]
  },
  {
   "cell_type": "code",
   "execution_count": null,
   "metadata": {},
   "outputs": [],
   "source": [
    "import numpy as np\n",
    "\n",
    "px.set_mapbox_access_token(\"pk.eyJ1Ijoia2ltc29vaWwiLCJhIjoiY2wxa3Byd3A0MDI3dTNibzg0czF3dHd3aCJ9.hrsnzqpk-4MtEvfh_DZRdg\")\n",
    "\n",
    "rmax=riskzips_df2['risk'].max()\n",
    "riskzips_df2['color'] = (riskzips_df2['risk']/rmax).fillna(0).replace(np.inf , 0)\n",
    "# Create the figure and feed it all the prepared columns\n",
    "fig = px.scatter_mapbox(riskzips_df2, lat=\"y\", lon=\"x\", color=\"color\", size=riskzips_df2['risk'],\n",
    "                animation_frame = 'date_str',\n",
    "                color_continuous_scale=px.colors.cyclical.IceFire, size_max=15, zoom=9)\n",
    "fig.show()"
   ]
  },
  {
   "cell_type": "code",
   "execution_count": null,
   "metadata": {},
   "outputs": [],
   "source": [
    "# path = os.path.join('..', 'ABM-simulator', 'SimulationEngine', 'output', 'split-pop-with-shakir-logic')\n",
    "# filters_settting=[]\n",
    "# filters_settting.append(('ZIP','in', ['33647']))  #ZIP in scatter, zip in heatmap\n",
    "# columns_being_used_in_scatter=[\n",
    "#     'step',\n",
    "#     #'pid',\n",
    "#     'x',\n",
    "#     'y',\n",
    "#     #'location',\n",
    "#     #'ZIP',\n",
    "#     #'type',\n",
    "#     'state',\n",
    "#     #'color',\n",
    "# ]\n",
    "# pdf = pd.read_parquet(os.path.join(path, 'scatter.snappy.parquet'),\n",
    "#                 filters=filters_settting,\n",
    "#                 columns=columns_being_used_in_scatter\n",
    "# )\n",
    "# pdf"
   ]
  },
  {
   "cell_type": "code",
   "execution_count": null,
   "metadata": {},
   "outputs": [],
   "source": [
    "# from datetime import datetime, date, timedelta, time    \n",
    "\n",
    "# startdate = date(2020, 3, 1)\n",
    "\n",
    "# pdf[\"state\"] =  pdf[\"state\"].astype(\"category\")\n",
    "# pdf[\"step\"] = pd.to_numeric(pdf[\"step\"], downcast=\"unsigned\")\n",
    "# pdf[['x','y']] = pdf[['x','y']].apply(pd.to_numeric, downcast=\"float\")\n",
    "# pdf['Date']=[startdate+timedelta(days=d) for d in pdf['step']]\n",
    "# pdf['Date']=pdf['Date'].astype(str)"
   ]
  },
  {
   "cell_type": "code",
   "execution_count": null,
   "metadata": {},
   "outputs": [],
   "source": [
    "# pdf['Date'] = pd.to_datetime(pdf['Date'])\n",
    "# pdf['Week_Number'] = pdf['Date'].dt.isocalendar().week\n",
    "# pdf['Year']=(pdf['Date'] - pdf['Date'].dt.weekday * timedelta(days=1)).dt.year\n",
    "# pdf.set_index('Date')"
   ]
  },
  {
   "cell_type": "code",
   "execution_count": null,
   "metadata": {},
   "outputs": [],
   "source": [
    "# pdf = pdf.groupby(['Year','Week_Number'], as_index=False).sum()\n",
    "\n",
    "# pdf['year_week']=pdf['Year'].astype(str)+'-W'+pdf['Week_Number'].astype(str)\n",
    "# pdf['year_week2']=pdf['Year'].astype(int)*100+pdf['Week_Number'].astype(int)\n",
    "# pdf['date'] = pd.to_datetime(pdf['year_week2'].astype(str) + '0', format='%Y%W%w') # do not use: last week of the year become weird...\n"
   ]
  },
  {
   "cell_type": "code",
   "execution_count": null,
   "metadata": {},
   "outputs": [],
   "source": [
    "# pdf"
   ]
  },
  {
   "cell_type": "code",
   "execution_count": null,
   "metadata": {},
   "outputs": [],
   "source": [
    "# pdf = pdf.sort_values(by='step') # should be run after sampling\n",
    "# pdf.drop('step',axis=1, inplace=True)"
   ]
  },
  {
   "cell_type": "code",
   "execution_count": null,
   "metadata": {},
   "outputs": [],
   "source": [
    "# pdf"
   ]
  },
  {
   "cell_type": "code",
   "execution_count": null,
   "metadata": {},
   "outputs": [],
   "source": [
    "# ZIPS = ['33510', '33511', '33527', '33534', '33547', '33548', '33549', '33556', '33558', '33559', '33563', '33565',\n",
    "#             '33566', '33567', '33569', '33570', '33572', '33573', '33578', '33579', '33584', '33592', '33594', '33596',\n",
    "#             '33598', '33602', '33603', '33604', '33605', '33606', '33607', '33609', '33610', '33611', '33612', '33613',\n",
    "#             '33614', '33615', '33616', '33617', '33618', '33619', '33624', '33625', '33626', '33629', '33634', '33635',\n",
    "#             '33637', '33647']\n",
    "ZIPS = ['33510']\n",
    "ZIPS_org=ZIPS.copy()\n",
    "dir = os.path.join('..', 'ABM-simulator', 'SimulationEngine', 'output', 'split-with-new-step')\n",
    "dlist = []\n",
    "for root, dirs, files in os.walk(dir):\n",
    "    for file in files:\n",
    "        if file.startswith(\"output_\"):\n",
    "            zip = file.split('_')[1]\n",
    "            if zip in ZIPS_org:\n",
    "                d = pd.read_csv(os.path.join(root, file))\n",
    "                dlist.append(d)\n",
    "\n",
    "df = pd.concat(dlist)\n",
    "del dlist # free up memory\n",
    "\n",
    "df[\"type\"] =  df[\"type\"].astype(\"category\")\n",
    "df[\"state\"] =  df[\"state\"].astype(\"category\")\n",
    "df[\"step\"] =  df[\"step\"].astype(\"category\")\n",
    "df[\"ZIP\"] =  df[\"ZIP\"].astype(\"category\")\n",
    "df\n"
   ]
  },
  {
   "cell_type": "code",
   "execution_count": null,
   "metadata": {},
   "outputs": [],
   "source": [
    "df = df.sort_values(by=['step'])\n",
    "steps = df['step'].unique()"
   ]
  },
  {
   "cell_type": "code",
   "execution_count": null,
   "metadata": {},
   "outputs": [],
   "source": [
    "\n",
    "dl = []\n",
    "for step in steps:\n",
    "    d = df.loc[df.step == step]\n",
    "    dg = d.groupby(['x', 'y'])\n",
    "    for name, dd in dg:\n",
    "        #print(type(dd['state'].values[0]))\n",
    "        #dic = {'step': step, 'x': name[0], 'y': name[1], 'z': len(dd), 'zip': dd['ZIP'].values[0]}\n",
    "\n",
    "        mild=len(dd[dd['state']=='mild'].index)\n",
    "        presymptomatic=len(dd[dd['state']=='mild'].index)\n",
    "        #print(step, mild, presymptomatic)\n",
    "        dic = {'step': step, 'x': name[0], 'y': name[1], 'z': mild+presymptomatic, 'zip': dd['ZIP'].values[0]}\n",
    "        dl.append(dic)\n",
    "pdf = pd.DataFrame(dl)\n",
    "del dl"
   ]
  },
  {
   "cell_type": "code",
   "execution_count": null,
   "metadata": {},
   "outputs": [],
   "source": [
    "pdf"
   ]
  },
  {
   "cell_type": "code",
   "execution_count": null,
   "metadata": {},
   "outputs": [],
   "source": [
    "ZIPS = ['33510', '33511', '33527', '33534', '33547', '33548', '33549', '33556', '33558', '33559', '33563', '33565',\n",
    "            '33566', '33567', '33569', '33570', '33572', '33573', '33578', '33579', '33584', '33592', '33594', '33596',\n",
    "            '33598', '33602', '33603', '33604', '33605', '33606', '33607', '33609', '33610', '33611', '33612', '33613',\n",
    "            '33614', '33615', '33616', '33617', '33618', '33619', '33624', '33625', '33626', '33629', '33634', '33635',\n",
    "            '33637', '33647']\n",
    "# ZIPS = ['33510']\n",
    "ZIPS_org=ZIPS.copy()\n",
    "dir = os.path.join('..', 'ABM-simulator', 'SimulationEngine', 'output', 'split-with-new-step')\n",
    "dlist = []\n",
    "for root, dirs, files in os.walk(dir):\n",
    "    #print(root)\n",
    "    #print(dirs)\n",
    "    #print(files)\n",
    "    for file in files:\n",
    "        if file.startswith(\"SEIR_\"):\n",
    "            zip = file.split('_')[1]\n",
    "            zip = zip.replace('.csv', '')\n",
    "            #print('zip',zip)\n",
    "            if zip in ZIPS_org:\n",
    "                fpath=os.path.join(root,file)\n",
    "                #print(fpath)\n",
    "                d = pd.read_csv(fpath)\n",
    "                d['zipcode']=zip\n",
    "                dlist.append(d)\n",
    "print('dlist length', len(dlist))\n",
    "df = pd.concat(dlist)\n",
    "del dlist # free up memory\n",
    "\n",
    "\n"
   ]
  },
  {
   "cell_type": "code",
   "execution_count": null,
   "metadata": {},
   "outputs": [],
   "source": [
    "df[['vaccinated', 'boosted']].plot()"
   ]
  },
  {
   "cell_type": "code",
   "execution_count": null,
   "metadata": {},
   "outputs": [],
   "source": [
    "df[['mild','presymptomatic']].plot()"
   ]
  },
  {
   "cell_type": "code",
   "execution_count": null,
   "metadata": {},
   "outputs": [],
   "source": [
    "dlist = []\n",
    "for root, dirs, files in os.walk(dir):\n",
    "    #print(root)\n",
    "    #print(dirs)\n",
    "    #print(files)\n",
    "    for file in files:\n",
    "        if file.startswith(\"plot_\"):\n",
    "            zip = file.split('_')[1]\n",
    "            zip = zip.replace('.csv', '')\n",
    "            #print('zip',zip)\n",
    "            if zip in ZIPS_org:\n",
    "                fpath=os.path.join(root,file)\n",
    "                #print(fpath)\n",
    "                d = pd.read_csv(fpath)\n",
    "                d['zipcode']=zip\n",
    "                dlist.append(d)\n",
    "print('dlist length', len(dlist))\n",
    "df2 = pd.concat(dlist)\n",
    "df2.drop('date', axis=1, inplace=True)\n",
    "\n",
    "dates = dlist[0]['date'].tolist()\n",
    "del dlist # free up memory"
   ]
  },
  {
   "cell_type": "code",
   "execution_count": null,
   "metadata": {},
   "outputs": [],
   "source": [
    "def upper_envelope(df, windowsize=20):\n",
    "    return df.rolling(window=windowsize).max().shift(int(-windowsize/2))"
   ]
  },
  {
   "cell_type": "code",
   "execution_count": null,
   "metadata": {},
   "outputs": [],
   "source": [
    "allcases=pd.DataFrame(columns=ZIPS)\n",
    "alladmissions=pd.DataFrame(columns=ZIPS)\n",
    "alldeaths=pd.DataFrame(columns=ZIPS)\n",
    "allcases['date']=dates\n",
    "alladmissions['date']=dates\n",
    "alldeaths['date']=dates\n",
    "for zip in ZIPS:\n",
    "    d=df2[df2['zipcode']==zip]['cases'].to_frame()\n",
    "    allcases[zip]=d\n",
    "\n",
    "for zip in ZIPS:\n",
    "    d=df2[df2['zipcode']==zip]['admissions'].to_frame()\n",
    "    alladmissions[zip]=d\n",
    "\n",
    "for zip in ZIPS:\n",
    "    d=df2[df2['zipcode']==zip]['deaths'].to_frame()\n",
    "    alldeaths[zip]=d\n",
    "\n"
   ]
  },
  {
   "cell_type": "code",
   "execution_count": null,
   "metadata": {},
   "outputs": [],
   "source": [
    "\n",
    "fig= go.Figure()\n",
    "for zip in ZIPS:\n",
    "    fig.add_trace(go.Scatter(x=allcases['date'], y=allcases[zip],\n",
    "        mode='lines', name=zip, text=zip\n",
    "    ))\n",
    "fig.show()\n",
    "#allcases.plot(x='date')"
   ]
  },
  {
   "cell_type": "code",
   "execution_count": null,
   "metadata": {},
   "outputs": [],
   "source": [
    "#alladmissions.plot()\n",
    "fig2= go.Figure()\n",
    "for zip in ZIPS:\n",
    "    fig2.add_trace(go.Scatter(x=alladmissions['date'], y=alladmissions[zip],\n",
    "        mode='lines', name=zip\n",
    "    ))\n",
    "fig2.show()"
   ]
  },
  {
   "cell_type": "code",
   "execution_count": null,
   "metadata": {},
   "outputs": [],
   "source": [
    "fig3= go.Figure()\n",
    "for zip in ZIPS:\n",
    "    fig3.add_trace(go.Scatter(x=alldeaths['date'], y=alldeaths[zip],\n",
    "        mode='lines', name=zip\n",
    "    ))\n",
    "fig3.show()"
   ]
  },
  {
   "cell_type": "code",
   "execution_count": null,
   "metadata": {},
   "outputs": [],
   "source": [
    "import plotly.express as px\n",
    "import  plotly as py\n",
    "from plotly.subplots import make_subplots\n",
    "\n",
    "sub_groups = ['Cases (All zip codes)', \n",
    "            'Admissions(All zip codes)', \n",
    "            'Deaths(All zip codes)', ]\n",
    "\n",
    "fig_subplots = make_subplots(rows=3, cols=1, \n",
    "    subplot_titles=sub_groups, \n",
    "    #shared_xaxes=True, \n",
    "    shared_yaxes=True,\n",
    "    vertical_spacing = 0.05,\n",
    "    row_width=[0.1, 0.1, 0.1])\n",
    "for zip in ZIPS:\n",
    "    fig_subplots.add_trace(go.Scatter(x=allcases['date'], y=allcases[zip],\n",
    "        mode='lines', name=zip,\n",
    "    ),row=1, col=1)\n",
    "    fig_subplots.add_trace(go.Scatter(x=alladmissions['date'], y=alladmissions[zip],\n",
    "        mode='lines', name=zip,\n",
    "        \n",
    "    ),row=2, col=1)\n",
    "    fig_subplots.add_trace(go.Scatter(x=alldeaths['date'], y=alldeaths[zip],\n",
    "        mode='lines', name=zip,\n",
    "        \n",
    "    ),row=3, col=1)\n",
    "    fig_subplots.update_xaxes(showline=True, linewidth=1, linecolor='black', mirror=True, ticklabelmode=\"period\", dtick=\"M1\")\n",
    "    fig_subplots.update_yaxes(showline=True, linewidth=1, linecolor='black', mirror=True)\n",
    "    fig_subplots.update_layout(showlegend=True, autosize=True, \n",
    "                    #width=900, height=800,\n",
    "                    #legend=dict(orientation=\"h\",x=0, y=-0.1, traceorder=\"normal\"),\n",
    "                      font=dict(family=\"Arial\", size=11))\n",
    "fig_subplots.show()"
   ]
  },
  {
   "cell_type": "code",
   "execution_count": null,
   "metadata": {},
   "outputs": [],
   "source": [
    "fig = make_subplots(1,2)\n",
    "\n",
    "fig.add_trace(\n",
    " go.Heatmap(x = [1, 2, 3, 4], z = [[1, 2, 3, 4], [4, -3, -1, 1]], coloraxis = \"coloraxis\"), 1,1)\n",
    "\n",
    "fig.add_trace(\n",
    " go.Heatmap(x = [3, 4, 5, 6], z = [[10, 2, 1, 0], [4, 3, 5, 6]], coloraxis = \"coloraxis\"),1,2)\n",
    "fig.update_layout(coloraxis = {'colorscale':'viridis'})\n",
    "\n",
    "fig.show()"
   ]
  },
  {
   "cell_type": "code",
   "execution_count": null,
   "metadata": {},
   "outputs": [],
   "source": [
    "colors=[\n",
    "'aliceblue', 'antiquewhite', 'aqua', 'aquamarine', 'azure',\n",
    "                'beige', 'bisque', 'black', 'blanchedalmond', 'blue',\n",
    "                'blueviolet', 'brown', 'burlywood', 'cadetblue',\n",
    "                'chartreuse', 'chocolate', 'coral', 'cornflowerblue',\n",
    "                'cornsilk', 'crimson', 'cyan', 'darkblue', 'darkcyan',\n",
    "                'darkgoldenrod', 'darkgray', 'darkgrey', 'darkgreen',\n",
    "                'darkkhaki', 'darkmagenta', 'darkolivegreen', 'darkorange',\n",
    "                'darkorchid', 'darkred', 'darksalmon', 'darkseagreen',\n",
    "                'darkslateblue', 'darkslategray', 'darkslategrey',\n",
    "                'darkturquoise', 'darkviolet', 'deeppink', 'deepskyblue',\n",
    "                'dimgray', 'dimgrey', 'dodgerblue', 'firebrick',\n",
    "                'floralwhite', 'forestgreen', 'fuchsia', 'gainsboro',\n",
    "                'ghostwhite', 'gold', 'goldenrod', 'gray', 'grey', 'green',\n",
    "                'greenyellow', 'honeydew', 'hotpink', 'indianred', 'indigo',\n",
    "                'ivory', 'khaki', 'lavender', 'lavenderblush', 'lawngreen',\n",
    "                'lemonchiffon', 'lightblue', 'lightcoral', 'lightcyan',\n",
    "                'lightgoldenrodyellow', 'lightgray', 'lightgrey',\n",
    "                'lightgreen', 'lightpink', 'lightsalmon', 'lightseagreen',\n",
    "                'lightskyblue', 'lightslategray', 'lightslategrey',\n",
    "                'lightsteelblue', 'lightyellow', 'lime', 'limegreen',\n",
    "                'linen', 'magenta', 'maroon', 'mediumaquamarine',\n",
    "                'mediumblue', 'mediumorchid', 'mediumpurple',\n",
    "                'mediumseagreen', 'mediumslateblue', 'mediumspringgreen',\n",
    "                'mediumturquoise', 'mediumvioletred', 'midnightblue',\n",
    "                'mintcream', 'mistyrose', 'moccasin', 'navajowhite', 'navy',\n",
    "                'oldlace', 'olive', 'olivedrab', 'orange', 'orangered',\n",
    "                'orchid', 'palegoldenrod', 'palegreen', 'paleturquoise',\n",
    "                'palevioletred', 'papayawhip', 'peachpuff', 'peru', 'pink',\n",
    "                'plum', 'powderblue', 'purple', 'red', 'rosybrown',\n",
    "                'royalblue', 'saddlebrown', 'salmon', 'sandybrown',\n",
    "                'seagreen', 'seashell', 'sienna', 'silver', 'skyblue',\n",
    "                'slateblue', 'slategray', 'slategrey', 'snow', 'springgreen',\n",
    "                'steelblue', 'tan', 'teal', 'thistle', 'tomato', 'turquoise',\n",
    "                'violet', 'wheat', 'white', 'whitesmoke', 'yellow',\n",
    "                'yellowgreen'\n",
    "]"
   ]
  },
  {
   "cell_type": "code",
   "execution_count": null,
   "metadata": {},
   "outputs": [],
   "source": [
    "for zip in ZIPS:\n",
    "    if zip=='33647':\n",
    "        print(colors[ZIPS.index(zip)])\n"
   ]
  }
 ],
 "metadata": {
  "interpreter": {
   "hash": "3dfc6b3e1128c01a802799252831f2efd653676ae19c278832bde84a9fe1937d"
  },
  "kernelspec": {
   "display_name": "Python 3.9.10 ('abm-py39')",
   "language": "python",
   "name": "python3"
  },
  "language_info": {
   "codemirror_mode": {
    "name": "ipython",
    "version": 3
   },
   "file_extension": ".py",
   "mimetype": "text/x-python",
   "name": "python",
   "nbconvert_exporter": "python",
   "pygments_lexer": "ipython3",
   "version": "3.9.10"
  },
  "orig_nbformat": 4
 },
 "nbformat": 4,
 "nbformat_minor": 2
}
