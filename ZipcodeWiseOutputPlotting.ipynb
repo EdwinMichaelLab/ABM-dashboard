{
 "cells": [
  {
   "cell_type": "code",
   "execution_count": null,
   "id": "9545a9a9",
   "metadata": {},
   "outputs": [],
   "source": [
    "import numpy as np\n",
    "import pandas as pd\n",
    "import matplotlib.pyplot as plt\n",
    "import plotly as ply\n",
    "from datetime import datetime, date, timedelta, time\n",
    "import matplotlib.dates as mdates\n",
    "import os"
   ]
  },
  {
   "cell_type": "code",
   "execution_count": null,
   "id": "b6be819c",
   "metadata": {},
   "outputs": [],
   "source": [
    "print(os.getcwd())\n",
    "ZIPS = ['33510', '33511', '33527', '33534', '33547', '33548', '33549', '33556', '33558', '33559', '33563', '33565',\n",
    "            '33566', '33567', '33569', '33570', '33572', '33573', '33578', '33579', '33584', '33592', '33594', '33596',\n",
    "            '33598', '33602', '33603', '33604', '33605', '33606', '33607', '33609', '33610', '33611', '33612', '33613',\n",
    "            '33614', '33615', '33616', '33617', '33618', '33619', '33624', '33625', '33626', '33629', '33634', '33635',\n",
    "            '33637', '33647',\n",
    "            '33620', '33503']\n",
    "\n"
   ]
  },
  {
   "cell_type": "code",
   "execution_count": null,
   "id": "f1a8ecf0",
   "metadata": {},
   "outputs": [],
   "source": [
    "#pathinput=os.path.join(os.getcwd(),'data','split-with-new-step-0403')\n",
    "pathinput = os.path.join('..', 'ABM-simulator', 'SimulationEngine', 'output', 'split-with-new-step')\n",
    "print(pathinput)"
   ]
  },
  {
   "cell_type": "code",
   "execution_count": null,
   "id": "1891b8fa",
   "metadata": {},
   "outputs": [],
   "source": [
    "#path = os.path.join('..', 'ABM-simulator', 'SimulationEngine', 'output', '0308', 'run-no-intervention')\n",
    "#path = os.path.join('..', 'ABM-simulator', 'SimulationEngine', 'output', 'split-with-new-step')\n",
    "#print(path)\n",
    "  \n",
    "\n",
    "d = pd.read_csv(os.path.join('..', 'ABM-simulator', 'SimulationEngine', 'output', 'split-with-new-step','33527','plot_33527.csv'),parse_dates=['date'])\n",
    "dates=d['date'].to_list()\n"
   ]
  },
  {
   "cell_type": "code",
   "execution_count": null,
   "id": "8c5c9621",
   "metadata": {},
   "outputs": [],
   "source": [
    "def upper_envelope(df, windowsize=20):\n",
    "    return df.rolling(window=windowsize).max().shift(int(-windowsize/2))\n"
   ]
  },
  {
   "cell_type": "code",
   "execution_count": null,
   "id": "ca700a85",
   "metadata": {},
   "outputs": [],
   "source": [
    "envelcases=pd.DataFrame({'date':dates,'rub':[0]*len(dates)})\n",
    "envelhosp=pd.DataFrame({'date':dates,'rub':[0]*len(dates)})\n",
    "enveldeath=pd.DataFrame({'date':dates,'rub':[0]*len(dates)})"
   ]
  },
  {
   "cell_type": "code",
   "execution_count": null,
   "id": "2ed8273a",
   "metadata": {},
   "outputs": [],
   "source": [
    "envelcases=envelcases.drop('rub',axis=1)\n",
    "envelhosp=envelhosp.drop('rub',axis=1)\n",
    "enveldeath=enveldeath.drop('rub',axis=1)"
   ]
  },
  {
   "cell_type": "code",
   "execution_count": null,
   "id": "bc58823c",
   "metadata": {},
   "outputs": [],
   "source": [
    "for zp in ZIPS:\n",
    "    envelcases[zp]=[0]*len(dates)\n",
    "    envelhosp[zp]=[0]*len(dates)\n",
    "    enveldeath[zp]=[0]*len(dates)"
   ]
  },
  {
   "cell_type": "code",
   "execution_count": null,
   "id": "0624ce7b",
   "metadata": {},
   "outputs": [],
   "source": [
    "#path = os.path.join('..', 'ABM-simulator', 'SimulationEngine', 'output', '0308', 'run-no-intervention')\n",
    "#path = os.path.join('..', 'ABM-simulator', 'SimulationEngine', 'output', 'split-with-new-step')\n",
    "#print(path)\n",
    "\n",
    "dlist = []\n",
    "for root, dirs, files in os.walk(pathinput):\n",
    "#for root, dirs, files in os.walk(path2):\n",
    "    for file in files:\n",
    "        if file.startswith(\"plot_\"):\n",
    "            #print(file)\n",
    "            no = file.split('_')[1].split('.')[0]\n",
    "            #print(type(no))\n",
    "            d = pd.read_csv(os.path.join(root, file))\n",
    "            envelcases[no]=upper_envelope(d['cases'], 9)\n",
    "            envelhosp[no]=upper_envelope(d['admissions'], 9)\n",
    "            enveldeath[no]=upper_envelope(d['deaths'], 9)\n",
    "                        \n",
    "            #plt.plot(d['date'],d['cases'])\n",
    "\n"
   ]
  },
  {
   "cell_type": "code",
   "execution_count": null,
   "id": "610d4766",
   "metadata": {},
   "outputs": [],
   "source": [
    "plt.figure(figsize=(10,6))\n",
    "ax=plt.gca()\n",
    "for zp in ZIPS:\n",
    "    plt.plot(envelcases['date'],envelcases[zp])\n",
    "    \n",
    "ax.xaxis.set_major_locator(mdates.MonthLocator(interval=4))\n",
    "ax.xaxis.set_major_formatter(mdates.DateFormatter('%Y-%m-%d'))\n",
    "plt.gcf().autofmt_xdate()\n",
    "plt.show()\n",
    "print('All plots-Loading completed!')"
   ]
  },
  {
   "cell_type": "code",
   "execution_count": null,
   "id": "5a9684a8",
   "metadata": {},
   "outputs": [],
   "source": [
    "#plotting admissions\n",
    "plt.figure(figsize=(10,6))\n",
    "ax=plt.gca()\n",
    "for zp in ZIPS:\n",
    "    plt.plot(envelhosp['date'],envelhosp[zp])\n",
    "    \n",
    "ax.xaxis.set_major_locator(mdates.MonthLocator(interval=4))\n",
    "ax.xaxis.set_major_formatter(mdates.DateFormatter('%Y-%m-%d'))\n",
    "plt.gcf().autofmt_xdate()\n",
    "plt.show()\n",
    "print('All plots-Loading completed!')"
   ]
  },
  {
   "cell_type": "code",
   "execution_count": null,
   "id": "39ccd2f6",
   "metadata": {},
   "outputs": [],
   "source": [
    "#plotting deaths\n",
    "plt.figure(figsize=(10,6))\n",
    "ax=plt.gca()\n",
    "for zp in ZIPS:\n",
    "    plt.plot(enveldeath['date'],enveldeath[zp])\n",
    "    \n",
    "ax.xaxis.set_major_locator(mdates.MonthLocator(interval=4))\n",
    "ax.xaxis.set_major_formatter(mdates.DateFormatter('%Y-%m-%d'))\n",
    "plt.gcf().autofmt_xdate()\n",
    "plt.show()\n",
    "print('All plots-Loading completed!')"
   ]
  },
  {
   "cell_type": "code",
   "execution_count": null,
   "id": "07d04402",
   "metadata": {},
   "outputs": [],
   "source": []
  }
 ],
 "metadata": {
  "kernelspec": {
   "display_name": "Python 3 (ipykernel)",
   "language": "python",
   "name": "python3"
  },
  "language_info": {
   "codemirror_mode": {
    "name": "ipython",
    "version": 3
   },
   "file_extension": ".py",
   "mimetype": "text/x-python",
   "name": "python",
   "nbconvert_exporter": "python",
   "pygments_lexer": "ipython3",
   "version": "3.9.10"
  }
 },
 "nbformat": 4,
 "nbformat_minor": 5
}
