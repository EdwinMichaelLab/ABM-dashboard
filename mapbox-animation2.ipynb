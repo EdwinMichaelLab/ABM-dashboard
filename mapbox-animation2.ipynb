{
 "cells": [
  {
   "cell_type": "code",
   "execution_count": null,
   "metadata": {},
   "outputs": [],
   "source": [
    "import plotly.express as px\n",
    "import pandas as pd\n",
    "df = pd.read_csv('https://gist.githubusercontent.com/shinokada/f01139d3a024de375ede23cec5d52360/raw/424ac0055ed71a04e6f45badfaef73df96ad0aad/CrimeStatebyState_1960-2014.csv')\n",
    "df = df[(df['State']!= 'District of Columbia' )]\n",
    "px.choropleth(df, \n",
    "              locations = 'State_code',\n",
    "              color=\"Murder_per100000\", \n",
    "              animation_frame=\"Year\",\n",
    "              color_continuous_scale=\"Inferno\",\n",
    "              locationmode='USA-states',\n",
    "              scope=\"usa\",\n",
    "              range_color=(0, 20),\n",
    "              title='Crime by State',\n",
    "              height=600\n",
    "             )"
   ]
  },
  {
   "cell_type": "code",
   "execution_count": null,
   "metadata": {},
   "outputs": [],
   "source": [
    "gapminder = px.data.gapminder()\n",
    "display(gapminder)\n",
    "px.choropleth(gapminder,               \n",
    "              locations=\"iso_alpha\",               \n",
    "              color=\"lifeExp\",\n",
    "              hover_name=\"country\",  \n",
    "              animation_frame=\"year\",    \n",
    "              color_continuous_scale='Plasma',  \n",
    "              height=600             \n",
    ")"
   ]
  }
 ],
 "metadata": {
  "interpreter": {
   "hash": "3dfc6b3e1128c01a802799252831f2efd653676ae19c278832bde84a9fe1937d"
  },
  "kernelspec": {
   "display_name": "Python 3.9.10 ('abm-py39')",
   "language": "python",
   "name": "python3"
  },
  "language_info": {
   "codemirror_mode": {
    "name": "ipython",
    "version": 3
   },
   "file_extension": ".py",
   "mimetype": "text/x-python",
   "name": "python",
   "nbconvert_exporter": "python",
   "pygments_lexer": "ipython3",
   "version": "3.9.10"
  },
  "orig_nbformat": 4
 },
 "nbformat": 4,
 "nbformat_minor": 2
}
